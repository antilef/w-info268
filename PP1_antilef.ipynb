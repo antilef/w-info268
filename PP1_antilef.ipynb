{
 "cells": [
  {
   "cell_type": "code",
   "execution_count": 166,
   "metadata": {},
   "outputs": [],
   "source": [
    "import warnings\n",
    "warnings.filterwarnings('ignore')\n",
    "import numpy as np\n",
    "import pandas as pd\n",
    "import seaborn as sb\n",
    "import matplotlib.pyplot as plt\n",
    "import sklearn\n",
    "from sklearn.cluster import KMeans\n",
    "\n",
    "from pandas import Series, DataFrame\n",
    "from pylab import rcParams\n",
    "from sklearn import preprocessing\n",
    "from sklearn.linear_model import LogisticRegression\n",
    "from sklearn.model_selection import train_test_split\n",
    "from sklearn import metrics \n",
    "from sklearn.metrics import classification_report"
   ]
  },
  {
   "cell_type": "code",
   "execution_count": 109,
   "metadata": {},
   "outputs": [],
   "source": [
    "\n",
    "#X = df4.ix[:,(0,1,2,3,4,5,6,7)].values\n",
    "#Y = df4.ix[:,8].values\n"
   ]
  },
  {
   "cell_type": "code",
   "execution_count": 178,
   "metadata": {},
   "outputs": [],
   "source": [
    "df4 = pd.read_csv('meteo.csv')\n",
    "#se suprime registro nulos ya que con la cantidad que queda se logra un buen entrenamiento\n",
    "df4.dropna(inplace=True)\n",
    "RT = pd.get_dummies(df4['RainToday'],drop_first=True)\n",
    "\n",
    "\n",
    "RTO = pd.get_dummies(df4['RainTomorrow'],drop_first=True)\n",
    "winDir = pd.get_dummies(df4['WindGustDir'],drop_first=True)\n",
    "winDir9am = pd.get_dummies(df4['WindDir9am'],drop_first=True)\n",
    "winDir3pm = pd.get_dummies(df4['WindDir3pm'],drop_first=True)\n",
    "Location = pd.get_dummies(df4['Location'],drop_first=True)\n",
    "\n",
    "df4.drop(['RainToday', 'RainTomorrow','WindGustDir','WindDir9am','WindDir3pm','Location'],axis=1,inplace=True)\n",
    "\n",
    "df4 = pd.concat([df4,winDir9am,winDir3pm,winDir,RTO,Location],axis=1)\n",
    "df4.rename(index=str,columns={\"Yes\":\"RainTomorrow\"})\n",
    "df4 = pd.concat([df4,RT],axis=1)\n",
    "\n",
    "#elimina la fecha ya que el dia exacto no es relevante y genera variables dummy no productivas \n",
    "#si se quisiera usar\n",
    "\n",
    "df4.drop(['Date','RISK_MM'],axis=1,inplace=True)"
   ]
  },
  {
   "cell_type": "code",
   "execution_count": 168,
   "metadata": {},
   "outputs": [],
   "source": [
    "X = df4.iloc[:,:87].values\n",
    "y = df4.iloc[:,87].values"
   ]
  },
  {
   "cell_type": "code",
   "execution_count": 169,
   "metadata": {},
   "outputs": [
    {
     "name": "stdout",
     "output_type": "stream",
     "text": [
      "[[ 7.9 13.5  0.  ...  0.   0.   0. ]\n",
      " [25.5 32.3  0.8 ...  0.   0.   0. ]\n",
      " [16.3 27.   0.  ...  0.   0.   0. ]\n",
      " ...\n",
      " [ 7.6 15.4  0.  ...  0.   0.   0. ]\n",
      " [ 1.  24.6  0.  ...  0.   0.   0. ]\n",
      " [ 1.7 14.5  0.  ...  0.   0.   0. ]]\n"
     ]
    }
   ],
   "source": [
    "X_train, X_test, y_train, y_test = train_test_split(X, y, test_size = .3, random_state=25)\n",
    "print(X_test)"
   ]
  },
  {
   "cell_type": "code",
   "execution_count": 170,
   "metadata": {},
   "outputs": [
    {
     "data": {
      "text/plain": [
       "LogisticRegression(C=1.0, class_weight=None, dual=False, fit_intercept=True,\n",
       "          intercept_scaling=1, max_iter=100, multi_class='warn',\n",
       "          n_jobs=None, penalty='l2', random_state=None, solver='warn',\n",
       "          tol=0.0001, verbose=0, warm_start=False)"
      ]
     },
     "execution_count": 170,
     "metadata": {},
     "output_type": "execute_result"
    }
   ],
   "source": [
    "LogReg = LogisticRegression()\n",
    "LogReg.fit(X_train, y_train)"
   ]
  },
  {
   "cell_type": "code",
   "execution_count": 171,
   "metadata": {},
   "outputs": [
    {
     "name": "stdout",
     "output_type": "stream",
     "text": [
      "coeficientes del modelo: [[-9.07459156e-03 -4.51385137e-02  9.93553640e+00 -2.37332618e-02\n",
      "   2.01388489e-03  1.18730127e-03  4.94616157e-03  1.56295831e-04\n",
      "  -3.93094883e-03 -3.35317983e-04  3.20524430e-04 -1.10273473e-02\n",
      "  -3.83666067e-02  3.59098854e-02  4.80613019e-03  5.39879338e-02\n",
      "  -1.41316587e-01 -1.95782473e-01 -5.34601349e-02  6.52389981e-02\n",
      "   6.56127658e-03  1.10488345e-02 -8.52244808e-02  7.49817879e-02\n",
      "  -7.61599195e-02  8.94270463e-02  5.52537246e-02  1.70849535e-02\n",
      "  -8.92585443e-03  1.63344247e-01  1.31164596e-01  1.04717539e-01\n",
      "  -1.88823366e-01  2.27831590e-02  8.24721535e-02  2.23711136e-03\n",
      "  -7.16896238e-02 -5.27136002e-02  2.17546379e-02  9.59988298e-02\n",
      "   7.99804310e-02 -6.84314396e-02 -3.16990474e-02 -6.09273661e-03\n",
      "  -1.39636660e-01  6.97292537e-02  1.24677951e-01  1.31955245e-01\n",
      "  -8.25487421e-02  2.03069372e-02 -5.59687780e-02  1.65078834e-01\n",
      "  -4.71397081e-03  8.12332794e-02 -1.13568908e-01 -5.36342569e-02\n",
      "   2.62558154e-02  6.88168454e-02  1.78394322e-02 -1.25892697e-02\n",
      "  -1.81026571e-01  4.54916938e-02  2.73807303e-01 -6.70574042e-02\n",
      "  -4.34935042e-02 -9.21386257e-02 -9.43475335e-02 -6.62662512e-02\n",
      "   2.29186352e-01  1.79067012e-01  1.37677139e-03 -1.78014191e-01\n",
      "  -4.83354826e-02 -4.39854259e-03 -1.21644117e-01 -1.81947052e-01\n",
      "   9.90068637e-02 -8.07890063e-02 -1.00464078e-02  4.55727638e-03\n",
      "  -2.72174421e-02  1.07738625e-01 -1.71173257e-02 -2.44217153e-02\n",
      "  -1.34777125e-03  2.28104587e-02  1.26794915e-01]]\n",
      "intercept: [0.00010166]\n"
     ]
    }
   ],
   "source": [
    "print(\"coeficientes del modelo: \"+str(LogReg.coef_))\n",
    "print(\"intercept: \"+str(LogReg.intercept_))"
   ]
  },
  {
   "cell_type": "code",
   "execution_count": 172,
   "metadata": {},
   "outputs": [
    {
     "data": {
      "text/plain": [
       "array([1, 0, 1, 0, 0, 0, 0, 0, 1, 1, 0, 0, 0], dtype=uint8)"
      ]
     },
     "execution_count": 172,
     "metadata": {},
     "output_type": "execute_result"
    }
   ],
   "source": [
    "y_pred = LogReg.predict(X_test)\n",
    "y_pred[32:45]"
   ]
  },
  {
   "cell_type": "code",
   "execution_count": 173,
   "metadata": {},
   "outputs": [
    {
     "data": {
      "text/plain": [
       "array([[13158,     0],\n",
       "       [    0,  3768]])"
      ]
     },
     "execution_count": 173,
     "metadata": {},
     "output_type": "execute_result"
    }
   ],
   "source": [
    "from sklearn.metrics import confusion_matrix\n",
    "confusion_matrix = confusion_matrix(y_test, y_pred)\n",
    "confusion_matrix"
   ]
  },
  {
   "cell_type": "code",
   "execution_count": 174,
   "metadata": {},
   "outputs": [
    {
     "name": "stdout",
     "output_type": "stream",
     "text": [
      "              precision    recall  f1-score   support\n",
      "\n",
      "           0       1.00      1.00      1.00     13158\n",
      "           1       1.00      1.00      1.00      3768\n",
      "\n",
      "   micro avg       1.00      1.00      1.00     16926\n",
      "   macro avg       1.00      1.00      1.00     16926\n",
      "weighted avg       1.00      1.00      1.00     16926\n",
      "\n"
     ]
    }
   ],
   "source": [
    "print(classification_report(y_test, y_pred))"
   ]
  },
  {
   "cell_type": "code",
   "execution_count": 175,
   "metadata": {},
   "outputs": [
    {
     "name": "stdout",
     "output_type": "stream",
     "text": [
      "[[13158     0]\n",
      " [    0  3768]]\n",
      "              precision    recall  f1-score   support\n",
      "\n",
      "           0       1.00      1.00      1.00     13158\n",
      "           1       1.00      1.00      1.00      3768\n",
      "\n",
      "   micro avg       1.00      1.00      1.00     16926\n",
      "   macro avg       1.00      1.00      1.00     16926\n",
      "weighted avg       1.00      1.00      1.00     16926\n",
      "\n"
     ]
    }
   ],
   "source": [
    "from sklearn import tree\n",
    "#Entrenamiento\n",
    "clf = tree.DecisionTreeClassifier()\n",
    "clf = clf.fit(X_train,y_train)\n",
    "#Predicciones\n",
    "y_pred = clf.predict(X_test)\n",
    "#Evaluación del rendimiento del clasificador\n",
    "from sklearn.metrics import confusion_matrix\n",
    "confusion_matrix = confusion_matrix(y_test, y_pred)\n",
    "print(confusion_matrix)\n",
    "#Print de la matriz de confusión\n",
    "from sklearn.metrics import classification_report\n",
    "print(classification_report(y_test, y_pred))"
   ]
  },
  {
   "cell_type": "code",
   "execution_count": null,
   "metadata": {},
   "outputs": [],
   "source": [
    "# las variables que son bueno predictores son si hoy llovio o no, la temperatura min y max el factor de nubes y la presion\n"
   ]
  }
 ],
 "metadata": {
  "kernelspec": {
   "display_name": "Python 3",
   "language": "python",
   "name": "python3"
  },
  "language_info": {
   "codemirror_mode": {
    "name": "ipython",
    "version": 3
   },
   "file_extension": ".py",
   "mimetype": "text/x-python",
   "name": "python",
   "nbconvert_exporter": "python",
   "pygments_lexer": "ipython3",
   "version": "3.7.1"
  }
 },
 "nbformat": 4,
 "nbformat_minor": 2
}
